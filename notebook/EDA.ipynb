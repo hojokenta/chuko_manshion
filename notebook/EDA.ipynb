{
 "cells": [
  {
   "cell_type": "code",
   "execution_count": 1,
   "metadata": {},
   "outputs": [],
   "source": [
    "import glob\n",
    "import os\n",
    "import pandas as pd\n",
    "import numpy as np\n",
    "import itertools\n",
    "import pandas_profiling as pdp"
   ]
  },
  {
   "cell_type": "code",
   "execution_count": 2,
   "metadata": {},
   "outputs": [],
   "source": [
    "# 指定したファイルパスのcsvファイルを全部読み込む関数\n",
    "def read_csv_all(target_path = '../input/'):\n",
    "    for file in glob.glob(target_path+'*.csv'):\n",
    "        file_name = file.replace(target_path,'').replace('.csv','')\n",
    "        exec('{} = pd.read_csv(\\'{}\\')'.format(file_name, file), globals())\n",
    "        print('read {} as {}'.format(file, file_name))"
   ]
  },
  {
   "cell_type": "code",
   "execution_count": 3,
   "metadata": {},
   "outputs": [],
   "source": [
    "# 指定したファイルパスのcsvファイルを全部読み込む関数（train用）\n",
    "def read_csv_train(target_path = '../input/train/'):\n",
    "    dfs = [pd.read_csv(f) for f in glob.glob(target_path+'*.csv')]\n",
    "    finaldf = pd.concat(dfs, axis=0).sort_index()\n",
    "    return finaldf"
   ]
  },
  {
   "cell_type": "code",
   "execution_count": 4,
   "metadata": {},
   "outputs": [
    {
     "name": "stdout",
     "output_type": "stream",
     "text": [
      "read ../input/test.csv as test\n",
      "read ../input/sample_submission.csv as sample_submission\n"
     ]
    }
   ],
   "source": [
    "read_csv_all()"
   ]
  },
  {
   "cell_type": "code",
   "execution_count": 5,
   "metadata": {},
   "outputs": [
    {
     "name": "stderr",
     "output_type": "stream",
     "text": [
      "/Users/hojokenta/.local/share/virtualenvs/chuko_manshion-h4ev_jwl/lib/python3.7/site-packages/IPython/core/interactiveshell.py:3319: DtypeWarning: Columns (10) have mixed types. Specify dtype option on import or set low_memory=False.\n",
      "  exec(code_obj, self.user_global_ns, self.user_ns)\n"
     ]
    }
   ],
   "source": [
    "df = read_csv_train()"
   ]
  },
  {
   "cell_type": "code",
   "execution_count": 6,
   "metadata": {},
   "outputs": [
    {
     "data": {
      "text/html": [
       "<div>\n",
       "<style scoped>\n",
       "    .dataframe tbody tr th:only-of-type {\n",
       "        vertical-align: middle;\n",
       "    }\n",
       "\n",
       "    .dataframe tbody tr th {\n",
       "        vertical-align: top;\n",
       "    }\n",
       "\n",
       "    .dataframe thead th {\n",
       "        text-align: right;\n",
       "    }\n",
       "</style>\n",
       "<table border=\"1\" class=\"dataframe\">\n",
       "  <thead>\n",
       "    <tr style=\"text-align: right;\">\n",
       "      <th></th>\n",
       "      <th>ID</th>\n",
       "      <th>種類</th>\n",
       "      <th>地域</th>\n",
       "      <th>市区町村コード</th>\n",
       "      <th>都道府県名</th>\n",
       "      <th>市区町村名</th>\n",
       "      <th>地区名</th>\n",
       "      <th>最寄駅：名称</th>\n",
       "      <th>最寄駅：距離（分）</th>\n",
       "      <th>間取り</th>\n",
       "      <th>...</th>\n",
       "      <th>前面道路：方位</th>\n",
       "      <th>前面道路：種類</th>\n",
       "      <th>前面道路：幅員（ｍ）</th>\n",
       "      <th>都市計画</th>\n",
       "      <th>建ぺい率（％）</th>\n",
       "      <th>容積率（％）</th>\n",
       "      <th>取引時点</th>\n",
       "      <th>改装</th>\n",
       "      <th>取引の事情等</th>\n",
       "      <th>取引価格（総額）_log</th>\n",
       "    </tr>\n",
       "  </thead>\n",
       "  <tbody>\n",
       "    <tr>\n",
       "      <th>0</th>\n",
       "      <td>40108844</td>\n",
       "      <td>中古マンション等</td>\n",
       "      <td>NaN</td>\n",
       "      <td>40218</td>\n",
       "      <td>福岡県</td>\n",
       "      <td>春日市</td>\n",
       "      <td>昇町</td>\n",
       "      <td>博多南</td>\n",
       "      <td>23</td>\n",
       "      <td>３ＬＤＫ</td>\n",
       "      <td>...</td>\n",
       "      <td>NaN</td>\n",
       "      <td>NaN</td>\n",
       "      <td>NaN</td>\n",
       "      <td>第２種住居地域</td>\n",
       "      <td>60.0</td>\n",
       "      <td>200.0</td>\n",
       "      <td>2012年第１四半期</td>\n",
       "      <td>改装済</td>\n",
       "      <td>NaN</td>\n",
       "      <td>7.230449</td>\n",
       "    </tr>\n",
       "    <tr>\n",
       "      <th>0</th>\n",
       "      <td>27157860</td>\n",
       "      <td>中古マンション等</td>\n",
       "      <td>NaN</td>\n",
       "      <td>27128</td>\n",
       "      <td>大阪府</td>\n",
       "      <td>大阪市中央区</td>\n",
       "      <td>南船場</td>\n",
       "      <td>長堀橋</td>\n",
       "      <td>4</td>\n",
       "      <td>オープンフロア</td>\n",
       "      <td>...</td>\n",
       "      <td>NaN</td>\n",
       "      <td>NaN</td>\n",
       "      <td>NaN</td>\n",
       "      <td>商業地域</td>\n",
       "      <td>80.0</td>\n",
       "      <td>800.0</td>\n",
       "      <td>2009年第２四半期</td>\n",
       "      <td>未改装</td>\n",
       "      <td>NaN</td>\n",
       "      <td>6.812913</td>\n",
       "    </tr>\n",
       "    <tr>\n",
       "      <th>0</th>\n",
       "      <td>12118569</td>\n",
       "      <td>中古マンション等</td>\n",
       "      <td>NaN</td>\n",
       "      <td>12204</td>\n",
       "      <td>千葉県</td>\n",
       "      <td>船橋市</td>\n",
       "      <td>前原西</td>\n",
       "      <td>津田沼</td>\n",
       "      <td>14</td>\n",
       "      <td>３ＬＤＫ</td>\n",
       "      <td>...</td>\n",
       "      <td>NaN</td>\n",
       "      <td>NaN</td>\n",
       "      <td>NaN</td>\n",
       "      <td>第１種中高層住居専用地域</td>\n",
       "      <td>60.0</td>\n",
       "      <td>200.0</td>\n",
       "      <td>2009年第４四半期</td>\n",
       "      <td>未改装</td>\n",
       "      <td>NaN</td>\n",
       "      <td>7.204120</td>\n",
       "    </tr>\n",
       "    <tr>\n",
       "      <th>0</th>\n",
       "      <td>6021365</td>\n",
       "      <td>中古マンション等</td>\n",
       "      <td>NaN</td>\n",
       "      <td>6203</td>\n",
       "      <td>山形県</td>\n",
       "      <td>鶴岡市</td>\n",
       "      <td>錦町</td>\n",
       "      <td>鶴岡</td>\n",
       "      <td>3</td>\n",
       "      <td>３ＬＤＫ</td>\n",
       "      <td>...</td>\n",
       "      <td>NaN</td>\n",
       "      <td>NaN</td>\n",
       "      <td>NaN</td>\n",
       "      <td>商業地域</td>\n",
       "      <td>80.0</td>\n",
       "      <td>400.0</td>\n",
       "      <td>2011年第１四半期</td>\n",
       "      <td>未改装</td>\n",
       "      <td>NaN</td>\n",
       "      <td>7.342423</td>\n",
       "    </tr>\n",
       "    <tr>\n",
       "      <th>0</th>\n",
       "      <td>7043732</td>\n",
       "      <td>中古マンション等</td>\n",
       "      <td>NaN</td>\n",
       "      <td>7203</td>\n",
       "      <td>福島県</td>\n",
       "      <td>郡山市</td>\n",
       "      <td>桑野</td>\n",
       "      <td>郡山(福島)</td>\n",
       "      <td>30分?60分</td>\n",
       "      <td>３ＬＤＫ</td>\n",
       "      <td>...</td>\n",
       "      <td>NaN</td>\n",
       "      <td>NaN</td>\n",
       "      <td>NaN</td>\n",
       "      <td>第１種住居地域</td>\n",
       "      <td>60.0</td>\n",
       "      <td>200.0</td>\n",
       "      <td>2008年第１四半期</td>\n",
       "      <td>未改装</td>\n",
       "      <td>NaN</td>\n",
       "      <td>7.000000</td>\n",
       "    </tr>\n",
       "  </tbody>\n",
       "</table>\n",
       "<p>5 rows × 28 columns</p>\n",
       "</div>"
      ],
      "text/plain": [
       "         ID        種類  地域  市区町村コード 都道府県名   市区町村名  地区名  最寄駅：名称 最寄駅：距離（分）  \\\n",
       "0  40108844  中古マンション等 NaN    40218   福岡県     春日市   昇町     博多南        23   \n",
       "0  27157860  中古マンション等 NaN    27128   大阪府  大阪市中央区  南船場     長堀橋         4   \n",
       "0  12118569  中古マンション等 NaN    12204   千葉県     船橋市  前原西     津田沼        14   \n",
       "0   6021365  中古マンション等 NaN     6203   山形県     鶴岡市   錦町      鶴岡         3   \n",
       "0   7043732  中古マンション等 NaN     7203   福島県     郡山市   桑野  郡山(福島)   30分?60分   \n",
       "\n",
       "       間取り  ... 前面道路：方位  前面道路：種類  前面道路：幅員（ｍ）          都市計画 建ぺい率（％） 容積率（％）  \\\n",
       "0     ３ＬＤＫ  ...     NaN      NaN         NaN       第２種住居地域    60.0  200.0   \n",
       "0  オープンフロア  ...     NaN      NaN         NaN          商業地域    80.0  800.0   \n",
       "0     ３ＬＤＫ  ...     NaN      NaN         NaN  第１種中高層住居専用地域    60.0  200.0   \n",
       "0     ３ＬＤＫ  ...     NaN      NaN         NaN          商業地域    80.0  400.0   \n",
       "0     ３ＬＤＫ  ...     NaN      NaN         NaN       第１種住居地域    60.0  200.0   \n",
       "\n",
       "         取引時点   改装  取引の事情等  取引価格（総額）_log  \n",
       "0  2012年第１四半期  改装済     NaN      7.230449  \n",
       "0  2009年第２四半期  未改装     NaN      6.812913  \n",
       "0  2009年第４四半期  未改装     NaN      7.204120  \n",
       "0  2011年第１四半期  未改装     NaN      7.342423  \n",
       "0  2008年第１四半期  未改装     NaN      7.000000  \n",
       "\n",
       "[5 rows x 28 columns]"
      ]
     },
     "execution_count": 6,
     "metadata": {},
     "output_type": "execute_result"
    }
   ],
   "source": [
    "df.head()"
   ]
  },
  {
   "cell_type": "code",
   "execution_count": null,
   "metadata": {},
   "outputs": [],
   "source": [
    "pdp.ProfileReport(df)"
   ]
  },
  {
   "cell_type": "code",
   "execution_count": 7,
   "metadata": {},
   "outputs": [
    {
     "data": {
      "text/html": [
       "<div>\n",
       "<style scoped>\n",
       "    .dataframe tbody tr th:only-of-type {\n",
       "        vertical-align: middle;\n",
       "    }\n",
       "\n",
       "    .dataframe tbody tr th {\n",
       "        vertical-align: top;\n",
       "    }\n",
       "\n",
       "    .dataframe thead th {\n",
       "        text-align: right;\n",
       "    }\n",
       "</style>\n",
       "<table border=\"1\" class=\"dataframe\">\n",
       "  <thead>\n",
       "    <tr style=\"text-align: right;\">\n",
       "      <th></th>\n",
       "      <th>ID</th>\n",
       "      <th>種類</th>\n",
       "      <th>地域</th>\n",
       "      <th>市区町村コード</th>\n",
       "      <th>都道府県名</th>\n",
       "      <th>市区町村名</th>\n",
       "      <th>地区名</th>\n",
       "      <th>最寄駅：名称</th>\n",
       "      <th>最寄駅：距離（分）</th>\n",
       "      <th>間取り</th>\n",
       "      <th>...</th>\n",
       "      <th>今後の利用目的</th>\n",
       "      <th>前面道路：方位</th>\n",
       "      <th>前面道路：種類</th>\n",
       "      <th>前面道路：幅員（ｍ）</th>\n",
       "      <th>都市計画</th>\n",
       "      <th>建ぺい率（％）</th>\n",
       "      <th>容積率（％）</th>\n",
       "      <th>取引時点</th>\n",
       "      <th>改装</th>\n",
       "      <th>取引の事情等</th>\n",
       "    </tr>\n",
       "  </thead>\n",
       "  <tbody>\n",
       "    <tr>\n",
       "      <th>0</th>\n",
       "      <td>1000000</td>\n",
       "      <td>中古マンション等</td>\n",
       "      <td>NaN</td>\n",
       "      <td>1101</td>\n",
       "      <td>北海道</td>\n",
       "      <td>札幌市中央区</td>\n",
       "      <td>旭ケ丘</td>\n",
       "      <td>円山公園</td>\n",
       "      <td>26</td>\n",
       "      <td>３ＬＤＫ</td>\n",
       "      <td>...</td>\n",
       "      <td>住宅</td>\n",
       "      <td>NaN</td>\n",
       "      <td>NaN</td>\n",
       "      <td>NaN</td>\n",
       "      <td>第１種低層住居専用地域</td>\n",
       "      <td>40.0</td>\n",
       "      <td>60.0</td>\n",
       "      <td>2020年第２四半期</td>\n",
       "      <td>未改装</td>\n",
       "      <td>NaN</td>\n",
       "    </tr>\n",
       "    <tr>\n",
       "      <th>1</th>\n",
       "      <td>1000056</td>\n",
       "      <td>中古マンション等</td>\n",
       "      <td>NaN</td>\n",
       "      <td>1101</td>\n",
       "      <td>北海道</td>\n",
       "      <td>札幌市中央区</td>\n",
       "      <td>大通西</td>\n",
       "      <td>西１１丁目</td>\n",
       "      <td>1</td>\n",
       "      <td>２ＬＤＫ</td>\n",
       "      <td>...</td>\n",
       "      <td>住宅</td>\n",
       "      <td>NaN</td>\n",
       "      <td>NaN</td>\n",
       "      <td>NaN</td>\n",
       "      <td>商業地域</td>\n",
       "      <td>80.0</td>\n",
       "      <td>600.0</td>\n",
       "      <td>2020年第１四半期</td>\n",
       "      <td>未改装</td>\n",
       "      <td>NaN</td>\n",
       "    </tr>\n",
       "    <tr>\n",
       "      <th>2</th>\n",
       "      <td>1000108</td>\n",
       "      <td>中古マンション等</td>\n",
       "      <td>NaN</td>\n",
       "      <td>1101</td>\n",
       "      <td>北海道</td>\n",
       "      <td>札幌市中央区</td>\n",
       "      <td>大通西</td>\n",
       "      <td>西１８丁目</td>\n",
       "      <td>2</td>\n",
       "      <td>１Ｒ</td>\n",
       "      <td>...</td>\n",
       "      <td>住宅</td>\n",
       "      <td>NaN</td>\n",
       "      <td>NaN</td>\n",
       "      <td>NaN</td>\n",
       "      <td>商業地域</td>\n",
       "      <td>80.0</td>\n",
       "      <td>400.0</td>\n",
       "      <td>2020年第２四半期</td>\n",
       "      <td>未改装</td>\n",
       "      <td>NaN</td>\n",
       "    </tr>\n",
       "    <tr>\n",
       "      <th>3</th>\n",
       "      <td>1000109</td>\n",
       "      <td>中古マンション等</td>\n",
       "      <td>NaN</td>\n",
       "      <td>1101</td>\n",
       "      <td>北海道</td>\n",
       "      <td>札幌市中央区</td>\n",
       "      <td>大通西</td>\n",
       "      <td>西１８丁目</td>\n",
       "      <td>2</td>\n",
       "      <td>１ＬＤＫ</td>\n",
       "      <td>...</td>\n",
       "      <td>住宅</td>\n",
       "      <td>NaN</td>\n",
       "      <td>NaN</td>\n",
       "      <td>NaN</td>\n",
       "      <td>商業地域</td>\n",
       "      <td>80.0</td>\n",
       "      <td>400.0</td>\n",
       "      <td>2020年第２四半期</td>\n",
       "      <td>改装済</td>\n",
       "      <td>NaN</td>\n",
       "    </tr>\n",
       "    <tr>\n",
       "      <th>4</th>\n",
       "      <td>1000110</td>\n",
       "      <td>中古マンション等</td>\n",
       "      <td>NaN</td>\n",
       "      <td>1101</td>\n",
       "      <td>北海道</td>\n",
       "      <td>札幌市中央区</td>\n",
       "      <td>大通西</td>\n",
       "      <td>西１８丁目</td>\n",
       "      <td>3</td>\n",
       "      <td>１Ｒ</td>\n",
       "      <td>...</td>\n",
       "      <td>住宅</td>\n",
       "      <td>NaN</td>\n",
       "      <td>NaN</td>\n",
       "      <td>NaN</td>\n",
       "      <td>商業地域</td>\n",
       "      <td>80.0</td>\n",
       "      <td>400.0</td>\n",
       "      <td>2020年第２四半期</td>\n",
       "      <td>NaN</td>\n",
       "      <td>NaN</td>\n",
       "    </tr>\n",
       "  </tbody>\n",
       "</table>\n",
       "<p>5 rows × 27 columns</p>\n",
       "</div>"
      ],
      "text/plain": [
       "        ID        種類  地域  市区町村コード 都道府県名   市区町村名  地区名 最寄駅：名称 最寄駅：距離（分）   間取り  \\\n",
       "0  1000000  中古マンション等 NaN     1101   北海道  札幌市中央区  旭ケ丘   円山公園        26  ３ＬＤＫ   \n",
       "1  1000056  中古マンション等 NaN     1101   北海道  札幌市中央区  大通西  西１１丁目         1  ２ＬＤＫ   \n",
       "2  1000108  中古マンション等 NaN     1101   北海道  札幌市中央区  大通西  西１８丁目         2    １Ｒ   \n",
       "3  1000109  中古マンション等 NaN     1101   北海道  札幌市中央区  大通西  西１８丁目         2  １ＬＤＫ   \n",
       "4  1000110  中古マンション等 NaN     1101   北海道  札幌市中央区  大通西  西１８丁目         3    １Ｒ   \n",
       "\n",
       "   ...  今後の利用目的  前面道路：方位  前面道路：種類  前面道路：幅員（ｍ）         都市計画 建ぺい率（％） 容積率（％）  \\\n",
       "0  ...       住宅      NaN      NaN         NaN  第１種低層住居専用地域    40.0   60.0   \n",
       "1  ...       住宅      NaN      NaN         NaN         商業地域    80.0  600.0   \n",
       "2  ...       住宅      NaN      NaN         NaN         商業地域    80.0  400.0   \n",
       "3  ...       住宅      NaN      NaN         NaN         商業地域    80.0  400.0   \n",
       "4  ...       住宅      NaN      NaN         NaN         商業地域    80.0  400.0   \n",
       "\n",
       "         取引時点   改装  取引の事情等  \n",
       "0  2020年第２四半期  未改装     NaN  \n",
       "1  2020年第１四半期  未改装     NaN  \n",
       "2  2020年第２四半期  未改装     NaN  \n",
       "3  2020年第２四半期  改装済     NaN  \n",
       "4  2020年第２四半期  NaN     NaN  \n",
       "\n",
       "[5 rows x 27 columns]"
      ]
     },
     "execution_count": 7,
     "metadata": {},
     "output_type": "execute_result"
    }
   ],
   "source": [
    "test.head()"
   ]
  },
  {
   "cell_type": "code",
   "execution_count": 8,
   "metadata": {},
   "outputs": [
    {
     "data": {
      "text/html": [
       "<div>\n",
       "<style scoped>\n",
       "    .dataframe tbody tr th:only-of-type {\n",
       "        vertical-align: middle;\n",
       "    }\n",
       "\n",
       "    .dataframe tbody tr th {\n",
       "        vertical-align: top;\n",
       "    }\n",
       "\n",
       "    .dataframe thead th {\n",
       "        text-align: right;\n",
       "    }\n",
       "</style>\n",
       "<table border=\"1\" class=\"dataframe\">\n",
       "  <thead>\n",
       "    <tr style=\"text-align: right;\">\n",
       "      <th></th>\n",
       "      <th>ID</th>\n",
       "      <th>取引価格（総額）_log</th>\n",
       "    </tr>\n",
       "  </thead>\n",
       "  <tbody>\n",
       "    <tr>\n",
       "      <th>0</th>\n",
       "      <td>1000000</td>\n",
       "      <td>0</td>\n",
       "    </tr>\n",
       "    <tr>\n",
       "      <th>1</th>\n",
       "      <td>1000056</td>\n",
       "      <td>0</td>\n",
       "    </tr>\n",
       "    <tr>\n",
       "      <th>2</th>\n",
       "      <td>1000108</td>\n",
       "      <td>0</td>\n",
       "    </tr>\n",
       "    <tr>\n",
       "      <th>3</th>\n",
       "      <td>1000109</td>\n",
       "      <td>0</td>\n",
       "    </tr>\n",
       "    <tr>\n",
       "      <th>4</th>\n",
       "      <td>1000110</td>\n",
       "      <td>0</td>\n",
       "    </tr>\n",
       "  </tbody>\n",
       "</table>\n",
       "</div>"
      ],
      "text/plain": [
       "        ID  取引価格（総額）_log\n",
       "0  1000000             0\n",
       "1  1000056             0\n",
       "2  1000108             0\n",
       "3  1000109             0\n",
       "4  1000110             0"
      ]
     },
     "execution_count": 8,
     "metadata": {},
     "output_type": "execute_result"
    }
   ],
   "source": [
    "sample_submission.head()"
   ]
  },
  {
   "cell_type": "code",
   "execution_count": 9,
   "metadata": {},
   "outputs": [
    {
     "data": {
      "text/plain": [
       "array(['23', '4', '14', '3', '30分?60分', '11', '15', '10', '29', nan, '2',\n",
       "       '8', '7', '12', '5', '9', '16', '1H?1H30', '26', '21', '13', '22',\n",
       "       '25', '18', '20', '6', '19', '24', '17', '28', '1', '2H?',\n",
       "       '1H30?2H', '27', '0'], dtype=object)"
      ]
     },
     "execution_count": 9,
     "metadata": {},
     "output_type": "execute_result"
    }
   ],
   "source": [
    "# 最寄り駅：距離の中身を確認\n",
    "df['最寄駅：距離（分）'].unique()"
   ]
  },
  {
   "cell_type": "markdown",
   "metadata": {},
   "source": [
    "'30分?60分''1H?1H30''2H?''1H30?2H'  \n",
    "30分以上の距離は丸めても良さそう"
   ]
  },
  {
   "cell_type": "code",
   "execution_count": 10,
   "metadata": {},
   "outputs": [
    {
     "data": {
      "text/plain": [
       "array(['26', '1', '2', '3', '0', '4', '6', '5', '7', '11', '8', '12', '9',\n",
       "       '13', '10', '30分?60分', '15', '14', '19', '18', '21', '23', '24',\n",
       "       '22', '28', '25', '29', '17', '20', '16', '2H?', '1H?1H30',\n",
       "       '1H30?2H', '27', nan], dtype=object)"
      ]
     },
     "execution_count": 10,
     "metadata": {},
     "output_type": "execute_result"
    }
   ],
   "source": [
    "# testデータも最寄り駅：距離の中身を確認\n",
    "test['最寄駅：距離（分）'].unique()"
   ]
  },
  {
   "cell_type": "markdown",
   "metadata": {},
   "source": [
    "testと同じ値を取りそう"
   ]
  },
  {
   "cell_type": "code",
   "execution_count": 11,
   "metadata": {},
   "outputs": [
    {
     "data": {
      "text/plain": [
       "array(['70', 35, 65, 75, 55, 20, 50, '65', 80, 45, '15', 70, '55', '90',\n",
       "       40, 95, 15, 60, '75', 25, 30, '50', 85, '95', 90, 100, 155, '80',\n",
       "       '60', 105, 115, '45', '35', '120', '140', '25', '85', 120, '20',\n",
       "       '30', 110, 135, '100', '40', '115', 125, 310, '105', 10, 570,\n",
       "       '110', 175, '160', '130', '10', 150, 130, 165, 740, 370, 160, 280,\n",
       "       '2000㎡以上', 140, 350, 260, '170', 190, '125', '145', '150', 290,\n",
       "       185, 480, 145, 180, '135', '470', 800, '830', 390, 230, 460, 220,\n",
       "       '290', 170, 195, 650, 610, '710', '440', '270', '155', 500, 200,\n",
       "       210, 760, '300', '180', 520, '165', 340, 970, '620', 250, '980',\n",
       "       '820', 440, 600, '175', '730', '900', 680, 490, 690, 790, '210',\n",
       "       '220', 330, '310', '185', 360, 710, '490', '340', 300, '195',\n",
       "       '190', 470, 450, 670, '560', '330', '240', '200', '500', '250',\n",
       "       '360', '520', '650', '400', '590', '320', '260', 530, '630', 860,\n",
       "       1000, '410', 730, '780', 240, '350', 270, '230', '660', 380, '990',\n",
       "       '450', '370', 550, '740', 540, '390', '510', 580, '760', 700, 1100,\n",
       "       320, '280', 410, '480', 960, '1500', 430, 420, 1400, 510, 1300,\n",
       "       660, 940, 770, 630, 590, 900, 400, 830, 780, 820, 720, 1500, 560,\n",
       "       890, 1200], dtype=object)"
      ]
     },
     "execution_count": 11,
     "metadata": {},
     "output_type": "execute_result"
    }
   ],
   "source": [
    "# 面積の中身を確認\n",
    "df['面積（㎡）'].unique()"
   ]
  },
  {
   "cell_type": "markdown",
   "metadata": {},
   "source": [
    "2000m^2以上は2000で丸めて良さそう_"
   ]
  },
  {
   "cell_type": "code",
   "execution_count": 12,
   "metadata": {},
   "outputs": [
    {
     "data": {
      "text/plain": [
       "array([  75,   55,   15,   45,   20,   60,   85,   40,   35,   65,   90,\n",
       "         70,   95,  110,  105,  100,   80,   25,   30,  115,   10,  130,\n",
       "         50,  170,  150,  125,  145,  200,  120,  140,  135,  210,  280,\n",
       "        165,  175,  230, 1400,  180,  155,  160,  190,  310,  270,  220,\n",
       "        760,  670,  185,  630])"
      ]
     },
     "execution_count": 12,
     "metadata": {},
     "output_type": "execute_result"
    }
   ],
   "source": [
    "# testデータも面積の中身を確認\n",
    "test['面積（㎡）'].unique()"
   ]
  },
  {
   "cell_type": "markdown",
   "metadata": {},
   "source": [
    "testデータには2000m^2はないのでデータ加工は気にしなくて良い"
   ]
  },
  {
   "cell_type": "code",
   "execution_count": 13,
   "metadata": {},
   "outputs": [
    {
     "data": {
      "text/plain": [
       "array(['平成16年', '昭和62年', '平成5年', '平成17年', '平成4年', '平成7年', '昭和63年',\n",
       "       '昭和64年', '平成18年', nan, '昭和59年', '平成19年', '昭和47年', '昭和57年', '平成13年',\n",
       "       '平成10年', '平成9年', '平成22年', '平成3年', '昭和49年', '平成25年', '平成6年',\n",
       "       '平成12年', '平成8年', '平成11年', '昭和50年', '平成2年', '昭和53年', '平成21年',\n",
       "       '平成24年', '平成26年', '昭和55年', '昭和48年', '昭和54年', '平成14年', '昭和58年',\n",
       "       '平成15年', '平成31年', '平成27年', '平成20年', '昭和52年', '昭和56年', '昭和61年',\n",
       "       '昭和51年', '昭和39年', '平成30年', '昭和45年', '昭和60年', '平成28年', '昭和46年',\n",
       "       '平成23年', '平成29年', '戦前', '昭和21年', '令和2年', '昭和43年', '昭和41年', '昭和42年',\n",
       "       '昭和28年', '昭和44年', '昭和27年', '昭和40年', '昭和38年', '昭和37年', '昭和23年',\n",
       "       '昭和29年', '昭和22年', '昭和26年', '昭和34年', '昭和35年', '昭和24年', '昭和25年',\n",
       "       '昭和33年', '昭和36年', '昭和31年', '昭和32年', '昭和30年'], dtype=object)"
      ]
     },
     "execution_count": 13,
     "metadata": {},
     "output_type": "execute_result"
    }
   ],
   "source": [
    "# 建築年の中身を確認\n",
    "df['建築年'].unique()"
   ]
  },
  {
   "cell_type": "markdown",
   "metadata": {},
   "source": [
    "綺麗に平成と昭和で別れてる"
   ]
  },
  {
   "cell_type": "code",
   "execution_count": 14,
   "metadata": {},
   "outputs": [
    {
     "data": {
      "text/plain": [
       "array(['昭和64年', '平成28年', '平成3年', '昭和56年', '昭和59年', '平成23年', '昭和52年',\n",
       "       '昭和60年', '昭和61年', '平成27年', '平成19年', '平成25年', '昭和49年', '平成15年',\n",
       "       '平成2年', '平成20年', '平成21年', '平成24年', '平成13年', '平成14年', '昭和62年',\n",
       "       '平成11年', '平成12年', '平成6年', '平成18年', '平成30年', '平成8年', '平成16年',\n",
       "       '昭和54年', '昭和63年', '平成10年', '昭和50年', '昭和51年', '昭和45年', '平成17年',\n",
       "       '平成26年', '昭和57年', '平成31年', '昭和46年', '昭和55年', '平成9年', '昭和48年',\n",
       "       '平成7年', '平成5年', '昭和53年', '平成4年', '昭和58年', nan, '平成22年', '戦前',\n",
       "       '平成29年', '昭和47年', '令和2年', '昭和43年', '昭和39年', '昭和42年', '昭和44年',\n",
       "       '昭和36年', '昭和40年', '昭和41年'], dtype=object)"
      ]
     },
     "execution_count": 14,
     "metadata": {},
     "output_type": "execute_result"
    }
   ],
   "source": [
    "# testデータも建築年の中身を確認\n",
    "test['建築年'].unique()"
   ]
  },
  {
   "cell_type": "code",
   "execution_count": null,
   "metadata": {},
   "outputs": [],
   "source": []
  }
 ],
 "metadata": {
  "kernelspec": {
   "display_name": "Python 3",
   "language": "python",
   "name": "python3"
  },
  "language_info": {
   "codemirror_mode": {
    "name": "ipython",
    "version": 3
   },
   "file_extension": ".py",
   "mimetype": "text/x-python",
   "name": "python",
   "nbconvert_exporter": "python",
   "pygments_lexer": "ipython3",
   "version": "3.7.4"
  }
 },
 "nbformat": 4,
 "nbformat_minor": 2
}
