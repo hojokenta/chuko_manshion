{
 "cells": [
  {
   "cell_type": "code",
   "execution_count": 1,
   "metadata": {},
   "outputs": [],
   "source": [
    "import glob\n",
    "import os\n",
    "import pandas as pd\n",
    "import numpy as np\n",
    "from sklearn.preprocessing import LabelEncoder\n",
    "from sklearn.model_selection import train_test_split\n",
    "import lightgbm as lgb"
   ]
  },
  {
   "cell_type": "code",
   "execution_count": 2,
   "metadata": {},
   "outputs": [],
   "source": [
    "# 指定したファイルパスのcsvファイルを全部読み込む関数\n",
    "def read_csv_all(target_path = '../input/'):\n",
    "    for file in glob.glob(target_path+'*.csv'):\n",
    "        file_name = file.replace(target_path,'').replace('.csv','')\n",
    "        exec('{} = pd.read_csv(\\'{}\\')'.format(file_name, file), globals())\n",
    "        print('read {} as {}'.format(file, file_name))"
   ]
  },
  {
   "cell_type": "code",
   "execution_count": 3,
   "metadata": {},
   "outputs": [],
   "source": [
    "def encode_categorical(df, cols):\n",
    "    for col in cols:\n",
    "        le = LabelEncoder()\n",
    "        # nullを文字列に置換\n",
    "        df[col].fillna(\"missing\", inplace=True)\n",
    "        df[col] = le.fit_transform(df[col])\n",
    "\n",
    "    return df"
   ]
  },
  {
   "cell_type": "code",
   "execution_count": 4,
   "metadata": {},
   "outputs": [],
   "source": [
    "# 指定したファイルパスのcsvファイルを全部読み込む関数（train用）\n",
    "def read_csv_train(target_path = '../input/train/'):\n",
    "    dfs = [pd.read_csv(f) for f in glob.glob(target_path+'*.csv')]\n",
    "    finaldf = pd.concat(dfs, axis=0)\n",
    "    return finaldf"
   ]
  },
  {
   "cell_type": "code",
   "execution_count": 43,
   "metadata": {},
   "outputs": [
    {
     "name": "stdout",
     "output_type": "stream",
     "text": [
      "read ../input/test.csv as test\n",
      "read ../input/sample_submission.csv as sample_submission\n"
     ]
    }
   ],
   "source": [
    "read_csv_all()\n",
    "train = read_csv_train()"
   ]
  },
  {
   "cell_type": "code",
   "execution_count": 44,
   "metadata": {},
   "outputs": [],
   "source": [
    "pd.set_option('display.max_columns', None)"
   ]
  },
  {
   "cell_type": "code",
   "execution_count": 45,
   "metadata": {},
   "outputs": [],
   "source": [
    "feature_name = ['feature_{}'.format(i + 1) for i in range(train.shape[1] - 2)]\n",
    "col_name_test = ['ID'] + feature_name\n",
    "col_name_train = col_name_test + ['target']\n",
    "train.columns = col_name_train\n",
    "test.columns = col_name_test"
   ]
  },
  {
   "cell_type": "code",
   "execution_count": 46,
   "metadata": {},
   "outputs": [],
   "source": [
    "# nullと1種類の変数しかない列を排除\n",
    "feature_except = ['feature_1', 'feature_2', 'feature_12', 'feature_13', 'feature_18', 'feature_19', 'feature_20']\n",
    "train = train.drop(feature_except, axis=1)\n",
    "test = test.drop(feature_except, axis=1)"
   ]
  },
  {
   "cell_type": "code",
   "execution_count": 54,
   "metadata": {},
   "outputs": [],
   "source": [
    "test['target'] = 0\n",
    "train['part'] = 'train'\n",
    "test['part'] = 'test'\n",
    "df= pd.concat([train, test], axis=0)"
   ]
  },
  {
   "cell_type": "code",
   "execution_count": 55,
   "metadata": {},
   "outputs": [],
   "source": [
    "# int型とstr型で混合しているものを明示的にstr型に変換\n",
    "df['feature_10'] = df['feature_10'].astype(str)"
   ]
  },
  {
   "cell_type": "code",
   "execution_count": 56,
   "metadata": {},
   "outputs": [],
   "source": [
    "# 文字列が入ってるものはすべてカテゴリカルに変換\n",
    "# feature_8(最寄り駅：距離)、feature10（面積）は本来数値型として扱いたいが、最初はカテゴリカル変数として扱う\n",
    "df = encode_categorical(\n",
    "    df, ['feature_3', 'feature_4','feature_5', 'feature_6', 'feature_7', 'feature_8', 'feature_9', 'feature_10','feature_11','feature_14','feature_15','feature_16','feature_17','feature_21','feature_24','feature_25','feature_26']\n",
    ")"
   ]
  },
  {
   "cell_type": "code",
   "execution_count": 57,
   "metadata": {},
   "outputs": [],
   "source": [
    "train = df[df['part'] == 'train']\n",
    "test = df[df['part'] == 'test']"
   ]
  },
  {
   "cell_type": "code",
   "execution_count": 66,
   "metadata": {},
   "outputs": [],
   "source": [
    "train_y = train[\"target\"]\n",
    "train_x = train.iloc[:,1:train.shape[1] - 2]\n",
    "test_x = test.iloc[:,1:test.shape[1] - 2]"
   ]
  },
  {
   "cell_type": "code",
   "execution_count": 67,
   "metadata": {},
   "outputs": [],
   "source": [
    "# バリデーション用にデータを分割する\n",
    "tr_x, va_x, tr_y, va_y = train_test_split(train_x , train_y,\n",
    "                                         test_size=0.25, random_state=71, shuffle=True)"
   ]
  },
  {
   "cell_type": "code",
   "execution_count": 68,
   "metadata": {},
   "outputs": [],
   "source": [
    "# lightgbmで学習してみる\n",
    "## lightgbmの構造に変換\n",
    "lgb_train = lgb.Dataset(tr_x, tr_y)\n",
    "lgb_eval = lgb.Dataset(va_x, va_y)"
   ]
  },
  {
   "cell_type": "code",
   "execution_count": 69,
   "metadata": {},
   "outputs": [],
   "source": [
    "## ハイパーパラメータの設定\n",
    "params = {'objective': 'regression', 'seed': 71, 'verbose': 0, 'metrics': 'rmse'}\n",
    "num_round = 100"
   ]
  },
  {
   "cell_type": "code",
   "execution_count": 70,
   "metadata": {},
   "outputs": [
    {
     "name": "stdout",
     "output_type": "stream",
     "text": [
      "[1]\ttarin's rmse: 0.330216\tvalid's rmse: 0.32931\n",
      "[2]\ttarin's rmse: 0.309262\tvalid's rmse: 0.308187\n",
      "[3]\ttarin's rmse: 0.290913\tvalid's rmse: 0.289695\n",
      "[4]\ttarin's rmse: 0.274704\tvalid's rmse: 0.273354\n",
      "[5]\ttarin's rmse: 0.260519\tvalid's rmse: 0.259045\n",
      "[6]\ttarin's rmse: 0.248378\tvalid's rmse: 0.246753\n",
      "[7]\ttarin's rmse: 0.237332\tvalid's rmse: 0.235619\n",
      "[8]\ttarin's rmse: 0.227872\tvalid's rmse: 0.226083\n",
      "[9]\ttarin's rmse: 0.219293\tvalid's rmse: 0.217415\n",
      "[10]\ttarin's rmse: 0.21151\tvalid's rmse: 0.209529\n",
      "[11]\ttarin's rmse: 0.205179\tvalid's rmse: 0.203132\n",
      "[12]\ttarin's rmse: 0.199199\tvalid's rmse: 0.19705\n",
      "[13]\ttarin's rmse: 0.193688\tvalid's rmse: 0.191492\n",
      "[14]\ttarin's rmse: 0.18892\tvalid's rmse: 0.186693\n",
      "[15]\ttarin's rmse: 0.184839\tvalid's rmse: 0.182623\n",
      "[16]\ttarin's rmse: 0.181177\tvalid's rmse: 0.178936\n",
      "[17]\ttarin's rmse: 0.177737\tvalid's rmse: 0.175499\n",
      "[18]\ttarin's rmse: 0.174622\tvalid's rmse: 0.172373\n",
      "[19]\ttarin's rmse: 0.171927\tvalid's rmse: 0.169674\n",
      "[20]\ttarin's rmse: 0.169467\tvalid's rmse: 0.167218\n",
      "[21]\ttarin's rmse: 0.16704\tvalid's rmse: 0.164823\n",
      "[22]\ttarin's rmse: 0.164799\tvalid's rmse: 0.162617\n",
      "[23]\ttarin's rmse: 0.162744\tvalid's rmse: 0.160589\n",
      "[24]\ttarin's rmse: 0.160789\tvalid's rmse: 0.15867\n",
      "[25]\ttarin's rmse: 0.15903\tvalid's rmse: 0.156932\n",
      "[26]\ttarin's rmse: 0.157327\tvalid's rmse: 0.155256\n",
      "[27]\ttarin's rmse: 0.155861\tvalid's rmse: 0.153862\n",
      "[28]\ttarin's rmse: 0.154492\tvalid's rmse: 0.152543\n",
      "[29]\ttarin's rmse: 0.153216\tvalid's rmse: 0.151318\n",
      "[30]\ttarin's rmse: 0.152011\tvalid's rmse: 0.150157\n",
      "[31]\ttarin's rmse: 0.150942\tvalid's rmse: 0.149125\n",
      "[32]\ttarin's rmse: 0.149905\tvalid's rmse: 0.14816\n",
      "[33]\ttarin's rmse: 0.148984\tvalid's rmse: 0.147289\n",
      "[34]\ttarin's rmse: 0.148123\tvalid's rmse: 0.146524\n",
      "[35]\ttarin's rmse: 0.14723\tvalid's rmse: 0.145675\n",
      "[36]\ttarin's rmse: 0.146507\tvalid's rmse: 0.145022\n",
      "[37]\ttarin's rmse: 0.145689\tvalid's rmse: 0.144264\n",
      "[38]\ttarin's rmse: 0.145042\tvalid's rmse: 0.143691\n",
      "[39]\ttarin's rmse: 0.144388\tvalid's rmse: 0.143149\n",
      "[40]\ttarin's rmse: 0.143785\tvalid's rmse: 0.142621\n",
      "[41]\ttarin's rmse: 0.143221\tvalid's rmse: 0.142163\n",
      "[42]\ttarin's rmse: 0.14265\tvalid's rmse: 0.141679\n",
      "[43]\ttarin's rmse: 0.142089\tvalid's rmse: 0.141202\n",
      "[44]\ttarin's rmse: 0.141598\tvalid's rmse: 0.140801\n",
      "[45]\ttarin's rmse: 0.141113\tvalid's rmse: 0.140419\n",
      "[46]\ttarin's rmse: 0.140585\tvalid's rmse: 0.139964\n",
      "[47]\ttarin's rmse: 0.14015\tvalid's rmse: 0.139622\n",
      "[48]\ttarin's rmse: 0.139637\tvalid's rmse: 0.139171\n",
      "[49]\ttarin's rmse: 0.139222\tvalid's rmse: 0.138834\n",
      "[50]\ttarin's rmse: 0.138811\tvalid's rmse: 0.138507\n",
      "[51]\ttarin's rmse: 0.138447\tvalid's rmse: 0.138252\n",
      "[52]\ttarin's rmse: 0.138049\tvalid's rmse: 0.137942\n",
      "[53]\ttarin's rmse: 0.137674\tvalid's rmse: 0.137628\n",
      "[54]\ttarin's rmse: 0.137345\tvalid's rmse: 0.137386\n",
      "[55]\ttarin's rmse: 0.137029\tvalid's rmse: 0.137157\n",
      "[56]\ttarin's rmse: 0.136679\tvalid's rmse: 0.136856\n",
      "[57]\ttarin's rmse: 0.136353\tvalid's rmse: 0.136623\n",
      "[58]\ttarin's rmse: 0.13603\tvalid's rmse: 0.136398\n",
      "[59]\ttarin's rmse: 0.135724\tvalid's rmse: 0.136175\n",
      "[60]\ttarin's rmse: 0.135422\tvalid's rmse: 0.135945\n",
      "[61]\ttarin's rmse: 0.135118\tvalid's rmse: 0.135698\n",
      "[62]\ttarin's rmse: 0.134838\tvalid's rmse: 0.135509\n",
      "[63]\ttarin's rmse: 0.134541\tvalid's rmse: 0.135291\n",
      "[64]\ttarin's rmse: 0.134296\tvalid's rmse: 0.135128\n",
      "[65]\ttarin's rmse: 0.134018\tvalid's rmse: 0.134918\n",
      "[66]\ttarin's rmse: 0.133746\tvalid's rmse: 0.134719\n",
      "[67]\ttarin's rmse: 0.133485\tvalid's rmse: 0.134515\n",
      "[68]\ttarin's rmse: 0.133246\tvalid's rmse: 0.134393\n",
      "[69]\ttarin's rmse: 0.133001\tvalid's rmse: 0.134214\n",
      "[70]\ttarin's rmse: 0.13278\tvalid's rmse: 0.134066\n",
      "[71]\ttarin's rmse: 0.132588\tvalid's rmse: 0.133951\n",
      "[72]\ttarin's rmse: 0.132379\tvalid's rmse: 0.133845\n",
      "[73]\ttarin's rmse: 0.132164\tvalid's rmse: 0.133688\n",
      "[74]\ttarin's rmse: 0.131944\tvalid's rmse: 0.133533\n",
      "[75]\ttarin's rmse: 0.131712\tvalid's rmse: 0.133389\n",
      "[76]\ttarin's rmse: 0.131496\tvalid's rmse: 0.133226\n",
      "[77]\ttarin's rmse: 0.131315\tvalid's rmse: 0.133142\n",
      "[78]\ttarin's rmse: 0.131107\tvalid's rmse: 0.133015\n",
      "[79]\ttarin's rmse: 0.130934\tvalid's rmse: 0.132913\n",
      "[80]\ttarin's rmse: 0.130753\tvalid's rmse: 0.13278\n",
      "[81]\ttarin's rmse: 0.130584\tvalid's rmse: 0.132678\n",
      "[82]\ttarin's rmse: 0.130396\tvalid's rmse: 0.132578\n",
      "[83]\ttarin's rmse: 0.130233\tvalid's rmse: 0.132483\n",
      "[84]\ttarin's rmse: 0.13008\tvalid's rmse: 0.132384\n",
      "[85]\ttarin's rmse: 0.129897\tvalid's rmse: 0.13227\n",
      "[86]\ttarin's rmse: 0.129747\tvalid's rmse: 0.132179\n",
      "[87]\ttarin's rmse: 0.129582\tvalid's rmse: 0.132114\n",
      "[88]\ttarin's rmse: 0.129413\tvalid's rmse: 0.131999\n",
      "[89]\ttarin's rmse: 0.129261\tvalid's rmse: 0.131904\n",
      "[90]\ttarin's rmse: 0.129125\tvalid's rmse: 0.131816\n",
      "[91]\ttarin's rmse: 0.128936\tvalid's rmse: 0.131714\n",
      "[92]\ttarin's rmse: 0.128805\tvalid's rmse: 0.131634\n",
      "[93]\ttarin's rmse: 0.128654\tvalid's rmse: 0.131566\n",
      "[94]\ttarin's rmse: 0.128496\tvalid's rmse: 0.131474\n",
      "[95]\ttarin's rmse: 0.128364\tvalid's rmse: 0.131426\n",
      "[96]\ttarin's rmse: 0.128235\tvalid's rmse: 0.131367\n",
      "[97]\ttarin's rmse: 0.128094\tvalid's rmse: 0.131285\n",
      "[98]\ttarin's rmse: 0.127964\tvalid's rmse: 0.131213\n",
      "[99]\ttarin's rmse: 0.127857\tvalid's rmse: 0.131147\n",
      "[100]\ttarin's rmse: 0.127717\tvalid's rmse: 0.131064\n"
     ]
    }
   ],
   "source": [
    "## カテゴリカル変数の指定\n",
    "categorical_features = ['feature_3', 'feature_4','feature_5', 'feature_6', 'feature_7', 'feature_8', 'feature_9', 'feature_10','feature_11','feature_14','feature_15','feature_16','feature_17','feature_21','feature_24','feature_25','feature_26']\n",
    "model = lgb.train(params, lgb_train, num_boost_round=num_round,\n",
    "                  categorical_feature=categorical_features,\n",
    "                  valid_names=['tarin', 'valid'], valid_sets=[lgb_train, lgb_eval])"
   ]
  },
  {
   "cell_type": "code",
   "execution_count": 72,
   "metadata": {},
   "outputs": [],
   "source": [
    "preds = model.predict(test_x)"
   ]
  },
  {
   "cell_type": "code",
   "execution_count": 82,
   "metadata": {},
   "outputs": [
    {
     "name": "stderr",
     "output_type": "stream",
     "text": [
      "/Users/hojokenta/.local/share/virtualenvs/chuko_manshion-h4ev_jwl/lib/python3.7/site-packages/ipykernel_launcher.py:1: SettingWithCopyWarning: \n",
      "A value is trying to be set on a copy of a slice from a DataFrame.\n",
      "Try using .loc[row_indexer,col_indexer] = value instead\n",
      "\n",
      "See the caveats in the documentation: http://pandas.pydata.org/pandas-docs/stable/user_guide/indexing.html#returning-a-view-versus-a-copy\n",
      "  \"\"\"Entry point for launching an IPython kernel.\n"
     ]
    }
   ],
   "source": [
    "test['取引価格（総額）_log'] = preds"
   ]
  },
  {
   "cell_type": "code",
   "execution_count": 87,
   "metadata": {},
   "outputs": [],
   "source": [
    "submit_file = test[['ID', '取引価格（総額）_log']]\n",
    "submit_file.to_csv('../output/submission_baseline.csv', index=False)"
   ]
  },
  {
   "cell_type": "code",
   "execution_count": null,
   "metadata": {},
   "outputs": [],
   "source": []
  }
 ],
 "metadata": {
  "kernelspec": {
   "display_name": "Python 3",
   "language": "python",
   "name": "python3"
  },
  "language_info": {
   "codemirror_mode": {
    "name": "ipython",
    "version": 3
   },
   "file_extension": ".py",
   "mimetype": "text/x-python",
   "name": "python",
   "nbconvert_exporter": "python",
   "pygments_lexer": "ipython3",
   "version": "3.7.4"
  }
 },
 "nbformat": 4,
 "nbformat_minor": 2
}
